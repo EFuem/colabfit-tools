{
 "cells": [
  {
   "cell_type": "markdown",
   "id": "27826272",
   "metadata": {},
   "source": [
    "This notebook serves as an example of how to load and manipulate the [COMP6 dataset](https://github.com/isayev/COMP6) using a `Dataset` object."
   ]
  },
  {
   "cell_type": "code",
   "execution_count": 1,
   "id": "cfce0e98",
   "metadata": {},
   "outputs": [],
   "source": [
    "import os\n",
    "import numpy as np\n",
    "\n",
    "from ase import Atoms\n",
    "\n",
    "from colabfit.tools.dataset import Dataset, load_data\n",
    "from colabfit.tools.property_settings import PropertySettings"
   ]
  },
  {
   "cell_type": "markdown",
   "id": "7610eec7",
   "metadata": {},
   "source": [
    "# Setup"
   ]
  },
  {
   "cell_type": "markdown",
   "id": "8c52063e",
   "metadata": {},
   "source": [
    "The COMP6 dataset is one of a collection of datasets that uses the [ANI-1 format](https://github.com/isayev/ANI1_dataset) for loading. Before running this example, you should make sure that [pyanitools.py](https://github.com/isayev/ANI1_dataset/blob/master/readers/lib/pyanitools.py) is in `PYTHONPATH` so that you can use it for loading from the ANI-formatted HDF5 files."
   ]
  },
  {
   "cell_type": "code",
   "execution_count": 2,
   "id": "d1bd50c4",
   "metadata": {},
   "outputs": [],
   "source": [
    "import sys\n",
    "\n",
    "my_path_to_pyanitools = '../../../svreg_data/AlZnMg/AL_Al/'\n",
    "sys.path.append(my_path_to_pyanitools)"
   ]
  },
  {
   "cell_type": "markdown",
   "id": "68613ff1",
   "metadata": {},
   "source": [
    "# Custom reader\n",
    "\n",
    "Since COMP6 is not stored in one of the core file formats, a user-specified `reader` function must be provided to `load_data` in order to read the data."
   ]
  },
  {
   "cell_type": "code",
   "execution_count": 3,
   "id": "43ae7b48",
   "metadata": {},
   "outputs": [],
   "source": [
    "def reader(path):\n",
    "    import pyanitools as pya\n",
    "    \n",
    "    adl = pya.anidataloader(path)\n",
    "    \n",
    "    images = []\n",
    "    for data in adl:        \n",
    "        for i in range(data['coordinates'].shape[0]):\n",
    "            atoms = Atoms(symbols=data['species'], positions=data['coordinates'][i])\n",
    "            \n",
    "            atoms.info['name'] = '{}_conformer_{}'.format(data['path'], i)\n",
    "            \n",
    "            atoms.info['energy'] = data['energies'][i]\n",
    "            atoms.arrays['forces'] = data['forces'][i]\n",
    "            \n",
    "            atoms.info['cm5'] = data['cm5'][i]\n",
    "            atoms.info['hirdipole'] = data['hirdipole'][i]\n",
    "            atoms.info['hirshfeld'] = data['hirshfeld'][i]\n",
    "            atoms.info['spindensities'] = data['spindensities'][i]\n",
    "            \n",
    "            images.append(atoms)\n",
    "            \n",
    "    return images"
   ]
  },
  {
   "cell_type": "markdown",
   "id": "59366168",
   "metadata": {},
   "source": [
    "# Loading configurations"
   ]
  },
  {
   "cell_type": "code",
   "execution_count": 4,
   "id": "17d38a16",
   "metadata": {},
   "outputs": [],
   "source": [
    "dataset = Dataset('COMP6')\n",
    "\n",
    "dataset.authors = [\n",
    "    'Justin S. Smith', 'Ben Nebgen', 'Nicholas Lubbers', 'Olexandr Isayev', 'Adrian E. Roitberg'\n",
    "]\n",
    "\n",
    "dataset.links = [\n",
    "    'https://aip.scitation.org/doi/full/10.1063/1.5023802',\n",
    "    'https://github.com/isayev/COMP6',\n",
    "#     'https://pubs.acs.org/doi/10.1021/acs.jctc.8b00524',\n",
    "]\n",
    "\n",
    "dataset.description = \\\n",
    "'This repository contains the COMP6 benchmark '\\\n",
    "'for evaluating the extensibility of machine-learning '\\\n",
    "'based molecular potentials.'"
   ]
  },
  {
   "cell_type": "code",
   "execution_count": 5,
   "id": "4182867d",
   "metadata": {},
   "outputs": [
    {
     "name": "stderr",
     "output_type": "stream",
     "text": [
      "Loading data: 100%|█████████████████████████████████████████████████████████████████████████████████████████████████████████████████████| 11/11 [00:42<00:00,  3.84s/it]\n"
     ]
    }
   ],
   "source": [
    "dataset.configurations = load_data(\n",
    "    file_path='../../../colabfit/data/isayev/COMP6/COMP6v1/',\n",
    "    file_format='folder',\n",
    "    name_field='name',  # key in Configuration.info to use as the Configuration name\n",
    "    elements=['C', 'H', 'N', 'O'],    # order matters for CFG files, but not others\n",
    "    default_name='comp6',  # default name with `name_field` not found\n",
    "    reader=reader,\n",
    "    glob_string='*.h5',\n",
    "    verbose=True\n",
    ")"
   ]
  },
  {
   "cell_type": "code",
   "execution_count": 6,
   "id": "201793f2",
   "metadata": {},
   "outputs": [
    {
     "data": {
      "text/plain": [
       "101352"
      ]
     },
     "execution_count": 6,
     "metadata": {},
     "output_type": "execute_result"
    }
   ],
   "source": [
    "len(dataset.configurations)"
   ]
  },
  {
   "cell_type": "markdown",
   "id": "85e6f395",
   "metadata": {},
   "source": [
    "# Parsing properties\n",
    "\n",
    "COMP6 includes three properties that don't exist in the currently available definitions: `cm5`, `hirshfeld`, and `hirdipole`. In order to load and properly document these, a custom property definition must be provided"
   ]
  },
  {
   "cell_type": "code",
   "execution_count": 7,
   "id": "2e68e585",
   "metadata": {},
   "outputs": [],
   "source": [
    "comp6_property_definition = {\n",
    "    'property-id': 'comp6-charges',\n",
    "    'property-title': 'cm5, hirdipole, hirshfeld, spindensities',\n",
    "    'property-description': 'Charges, dipoles, and spin densities',\n",
    "    'cm5':          {'type': 'float', 'has-unit': True, 'extent': [\":\"], 'required': True, 'description': 'CM5 atomic charges'},\n",
    "    'hirshfeld':    {'type': 'float', 'has-unit': True, 'extent': [\":\"], 'required': True, 'description': 'Hirshfeld atomic charges'},\n",
    "    'hirdipole':    {'type': 'float', 'has-unit': True, 'extent': [\":\", 3], 'required': True, 'description': 'Hirshfeld atomic dipoles'},\n",
    "}"
   ]
  },
  {
   "cell_type": "markdown",
   "id": "a389d2ba",
   "metadata": {},
   "source": [
    "Note that `energy` and `forces` can still be loaded by the default definition since they are known properties."
   ]
  },
  {
   "cell_type": "code",
   "execution_count": 8,
   "id": "b9fec13b",
   "metadata": {},
   "outputs": [],
   "source": [
    "property_map = {\n",
    "    'default' : {\n",
    "        'energy':    {'field': 'energy',    'units': 'kcal/mol'},\n",
    "        'forces':    {'field': 'forces',    'units': 'kcal/mol/Ang'},\n",
    "    },\n",
    "    'comp6-charges': {\n",
    "        # Property Definition field: {'field': ASE field, 'units': ASE-readable units}\n",
    "        'cm5':       {'field': 'cm5',       'units': 'elementary_charge'},\n",
    "        'hirshfeld': {'field': 'hirshfeld', 'units': 'elementary_charge'},\n",
    "        'hirdipole': {'field': 'hirdipole', 'units': 'elementary_charge*Ang'},\n",
    "    }\n",
    "}"
   ]
  },
  {
   "cell_type": "code",
   "execution_count": 9,
   "id": "2e498bc3",
   "metadata": {},
   "outputs": [],
   "source": [
    "dataset.property_map = property_map\n",
    "\n",
    "dataset.custom_definitions = {'comp6-charges': comp6_property_definition}"
   ]
  },
  {
   "cell_type": "code",
   "execution_count": 10,
   "id": "69b14d8c",
   "metadata": {},
   "outputs": [
    {
     "name": "stderr",
     "output_type": "stream",
     "text": [
      "Parsing data:   0%|                                                                                                                          | 0/101352 [00:00<?, ?it/s]/home/jvita/scripts/colabfit-tools/colabfit/tools/property.py:227: UserWarning: Invalid KIM property-id; Temporarily renaming to tag:@,0000-00-00:property/comp6-charges\n",
      "  warnings.warn(f\"Invalid KIM property-id; Temporarily renaming to {dummy_dict['property-id']}\")\n",
      "Parsing data: 100%|███████████████████████████████████████████████████████████████████████████████████████████████████████████| 101352/101352 [01:23<00:00, 1218.92it/s]\n"
     ]
    }
   ],
   "source": [
    "dataset.parse_data(convert_units=False, verbose=True)"
   ]
  },
  {
   "cell_type": "code",
   "execution_count": 11,
   "id": "6905ab72",
   "metadata": {},
   "outputs": [],
   "source": [
    "dataset.property_settings_regexes = {\n",
    "    '.*':\n",
    "        PropertySettings(\n",
    "            method='Gaussian09',\n",
    "            description='COMP6 property settings calculation',\n",
    "            files=[],\n",
    "            labels=['DFT', 'wb97x', '6-31G(d)'],\n",
    "        )\n",
    "}"
   ]
  },
  {
   "cell_type": "code",
   "execution_count": 12,
   "id": "1ac4de03",
   "metadata": {},
   "outputs": [],
   "source": [
    "dataset.resync()"
   ]
  },
  {
   "cell_type": "markdown",
   "id": "c6b0215a",
   "metadata": {},
   "source": [
    "# Saving the dataset"
   ]
  },
  {
   "cell_type": "code",
   "execution_count": 13,
   "id": "8ffe7c99",
   "metadata": {},
   "outputs": [],
   "source": [
    "dataset.to_markdown(\n",
    "    base_folder='../../../colabfit/data/formatted/COMP6v1/',\n",
    "    html_file_name='README.md',\n",
    "    data_file_name=dataset.name+'.extxyz',\n",
    "    data_format='xyz',\n",
    ")"
   ]
  },
  {
   "cell_type": "markdown",
   "id": "8551d5ea",
   "metadata": {},
   "source": [
    "# Exploration"
   ]
  },
  {
   "cell_type": "code",
   "execution_count": null,
   "id": "6f5f9760",
   "metadata": {},
   "outputs": [],
   "source": []
  }
 ],
 "metadata": {
  "kernelspec": {
   "display_name": "Python 3 (ipykernel)",
   "language": "python",
   "name": "python3"
  },
  "language_info": {
   "codemirror_mode": {
    "name": "ipython",
    "version": 3
   },
   "file_extension": ".py",
   "mimetype": "text/x-python",
   "name": "python",
   "nbconvert_exporter": "python",
   "pygments_lexer": "ipython3",
   "version": "3.8.11"
  }
 },
 "nbformat": 4,
 "nbformat_minor": 5
}
