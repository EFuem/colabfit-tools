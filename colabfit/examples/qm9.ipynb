{
 "cells": [
  {
   "cell_type": "markdown",
   "id": "d50fbe04",
   "metadata": {},
   "source": [
    "This notebook serves as an example of how to load and manipulate the [QM9 dataset](https://figshare.com/collections/Quantum_chemistry_structures_and_properties_of_134_kilo_molecules/978904) using a `Dataset` object."
   ]
  },
  {
   "cell_type": "markdown",
   "id": "88892bbe",
   "metadata": {},
   "source": [
    "# Imports"
   ]
  },
  {
   "cell_type": "code",
   "execution_count": 1,
   "id": "0b91d7f5",
   "metadata": {},
   "outputs": [],
   "source": [
    "import os\n",
    "import numpy as np\n",
    "\n",
    "from ase import Atoms\n",
    "\n",
    "from colabfit.tools.dataset import Dataset, load_data\n",
    "from colabfit.tools.property_settings import PropertySettings"
   ]
  },
  {
   "cell_type": "markdown",
   "id": "73932423",
   "metadata": {},
   "source": [
    "# Data loading"
   ]
  },
  {
   "cell_type": "markdown",
   "id": "9ebbb798",
   "metadata": {},
   "source": [
    "## Define the properties and reader functions"
   ]
  },
  {
   "cell_type": "code",
   "execution_count": 2,
   "id": "9b1797e5",
   "metadata": {},
   "outputs": [],
   "source": [
    "qm9_property_definition = {\n",
    "    'property-id': 'qm9-property',\n",
    "    'property-title': 'A, B, C, mu, alpha, homo, lumo, gap, r2, zpve, U0, U, H, G, Cv',\n",
    "    'property-description': 'Geometries minimal in energy, corresponding harmonic frequencies, dipole moments, polarizabilities, along with energies, enthalpies, and free energies of atomization',\n",
    "    'a':     {'type': 'float', 'has-unit': True, 'extent': [], 'required': True, 'description': 'Rotational constant A'},\n",
    "    'b':     {'type': 'float', 'has-unit': True, 'extent': [], 'required': True, 'description': 'Rotational constant B'},\n",
    "    'c':     {'type': 'float', 'has-unit': True, 'extent': [], 'required': True, 'description': 'Rotational constant C'},\n",
    "    'mu':    {'type': 'float', 'has-unit': True, 'extent': [], 'required': True, 'description': 'Dipole moment'},\n",
    "    'alpha': {'type': 'float', 'has-unit': True, 'extent': [], 'required': True, 'description': 'Isotropic polarizability'},\n",
    "    'homo':  {'type': 'float', 'has-unit': True, 'extent': [], 'required': True, 'description': 'Energy of Highest occupied molecular orbital (HOMO)'},\n",
    "    'lumo':  {'type': 'float', 'has-unit': True, 'extent': [], 'required': True, 'description': 'Energy of Lowest occupied molecular orbital (LUMO)'},\n",
    "    'gap':   {'type': 'float', 'has-unit': True, 'extent': [], 'required': True, 'description': 'Gap, difference between LUMO and HOMO'},\n",
    "    'r2':    {'type': 'float', 'has-unit': True, 'extent': [], 'required': True, 'description': 'Electronic spatial extent'},\n",
    "    'zpve':  {'type': 'float', 'has-unit': True, 'extent': [], 'required': True, 'description': 'Zero point vibrational energy'},\n",
    "    'u0':    {'type': 'float', 'has-unit': True, 'extent': [], 'required': True, 'description': 'Internal energy at 0 K'},\n",
    "    'u':     {'type': 'float', 'has-unit': True, 'extent': [], 'required': True, 'description': 'Internal energy at 298.15 K'},\n",
    "    'h':     {'type': 'float', 'has-unit': True, 'extent': [], 'required': True, 'description': 'Enthalpy at 298.15 K'},\n",
    "    'g':     {'type': 'float', 'has-unit': True, 'extent': [], 'required': True, 'description': 'Free energy at 298.15 K'},\n",
    "    'cv':    {'type': 'float', 'has-unit': True, 'extent': [], 'required': True, 'description': 'Heat capacity at 298.15 K'},\n",
    "    'smiles-relaxed':    {'type': 'string', 'has-unit': False, 'extent': [], 'required': True, 'description': 'SMILES for relaxed geometry'},\n",
    "    'inchi-relaxed':     {'type': 'string', 'has-unit': False, 'extent': [], 'required': True, 'description': 'InChI for relaxed geometry'},\n",
    "}"
   ]
  },
  {
   "cell_type": "code",
   "execution_count": 3,
   "id": "8e5fe28a",
   "metadata": {},
   "outputs": [],
   "source": [
    "property_map = {\n",
    "    'qm9-property': {\n",
    "        # Property Definition field: {'field': ASE field, 'units': ASE-readable units}\n",
    "        'a':     {'field': 'A',     'units': 'GHz'},\n",
    "        'b':     {'field': 'B',     'units': 'GHz'},\n",
    "        'c':     {'field': 'C',     'units': 'GHz'},\n",
    "        'mu':    {'field': 'mu',    'units': 'Debye'},\n",
    "        'alpha': {'field': 'alpha', 'units': 'Bohr*Bohr*Bohr'},\n",
    "        'homo':  {'field': 'homo',  'units': 'Hartree'},\n",
    "        'lumo':  {'field': 'lumo',  'units': 'Hartree'},\n",
    "        'gap':   {'field': 'gap',   'units': 'Hartree'},\n",
    "        'r2':    {'field': 'r2',    'units': 'Bohr*Bohr'},\n",
    "        'zpve':  {'field': 'zpve',  'units': 'Hartree'},\n",
    "        'u0':    {'field': 'U0',    'units': 'Hartree'},\n",
    "        'u':     {'field': 'U',     'units': 'Hartree'},\n",
    "        'h':     {'field': 'H',     'units': 'Hartree'},\n",
    "        'g':     {'field': 'G',     'units': 'Hartree'},\n",
    "        'cv':    {'field': 'Cv',    'units': 'cal/mol/K'},\n",
    "        'smiles-relaxed': {'field': 'SMILES_relaxed', 'units': None},\n",
    "        'inchi-relaxed': {'field': 'SMILES_relaxed',  'units': None},\n",
    "    }\n",
    "}"
   ]
  },
  {
   "cell_type": "code",
   "execution_count": 4,
   "id": "26725912",
   "metadata": {},
   "outputs": [],
   "source": [
    "def reader(file_path):\n",
    "    # A function for returning a list of ASE a\n",
    "    \n",
    "    properties_order = [\n",
    "        'tag', 'index', 'A', 'B', 'C', 'mu', 'alpha', 'homo', 'lumo', 'gap', 'r2', 'zpve', 'U0', 'U', 'H', 'G', 'Cv'\n",
    "    ]\n",
    "        \n",
    "    images = []\n",
    "    with open(file_path, 'r') as f:\n",
    "        lines = [_.strip() for _ in f.readlines()]\n",
    "        \n",
    "        na = int(lines[0])\n",
    "        properties = lines[1].split()\n",
    "        \n",
    "        symbols = []\n",
    "        positions = []\n",
    "        partial_charges = []\n",
    "        \n",
    "        for line in lines[2:2+na]:\n",
    "            split = line.split()\n",
    "            split = [_.replace('*^', 'e') for _ in split]  # Python-readable scientific notation\n",
    "            \n",
    "            # Line order: symbol, x, y, z, charge\n",
    "            symbols.append(split[0])\n",
    "            positions.append(split[1:4])\n",
    "            partial_charges.append(split[-1])\n",
    "            \n",
    "        positions = np.array(positions)\n",
    "        partial_charges = np.array(partial_charges, dtype=float)\n",
    "                \n",
    "        atoms = Atoms(symbols=symbols, positions=positions)\n",
    "        \n",
    "        atoms.info['mulliken_partial_charges'] = partial_charges\n",
    "        \n",
    "        name = os.path.splitext(os.path.split(file_path)[-1])[0]\n",
    "\n",
    "        atoms.info['name'] = name\n",
    "        \n",
    "        for pname, val in zip(properties_order[2:], properties[2:]):\n",
    "            atoms.info[pname] = float(val)\n",
    "            \n",
    "        frequencies = np.array(lines[-3].split(), dtype=float)\n",
    "        atoms.info['frequencies'] = frequencies\n",
    "                \n",
    "        smiles = lines[-2].split()\n",
    "        inchi  = lines[-1].split()\n",
    "        \n",
    "        atoms.info['SMILES']    = smiles[0]\n",
    "        atoms.info['SMILES_relaxed'] = smiles[1]\n",
    "        atoms.info['InChI']     = inchi[0]\n",
    "        atoms.info['InChI_relaxed']  = inchi[1]\n",
    "        \n",
    "        images.append(atoms)\n",
    "    \n",
    "    return images"
   ]
  },
  {
   "cell_type": "markdown",
   "id": "614d04f0",
   "metadata": {},
   "source": [
    "## Load the full dataset"
   ]
  },
  {
   "cell_type": "code",
   "execution_count": 5,
   "id": "4f682ae3",
   "metadata": {},
   "outputs": [],
   "source": [
    "dataset = Dataset('dsgdb9nsd')\n",
    "\n",
    "dataset.authors = [\n",
    "    'Raghunathan Ramakrishnan', 'Pavlo Dral', 'Matthias Rupp', 'O. Anatole von Lilienfeld'\n",
    "]\n",
    "\n",
    "dataset.links = [\n",
    "    'https://www.nature.com/articles/sdata201422',\n",
    "    'https://figshare.com/collections/Quantum_chemistry_structures_and_properties_of_134_kilo_molecules/978904'\n",
    "]\n",
    "\n",
    "dataset.description = \\\n",
    "\"These molecules correspond to the subset of all 133,885 \"\\\n",
    "\"species with up to nine heavy atoms (CONF) out of the GDB-17 \"\\\n",
    "\"chemical universe of 166 billion organic molecules.\""
   ]
  },
  {
   "cell_type": "code",
   "execution_count": 6,
   "id": "cb0a3a4e",
   "metadata": {},
   "outputs": [
    {
     "name": "stderr",
     "output_type": "stream",
     "text": [
      "Loading data: 100%|███████████████████████████████████████████████████████████████████████████████████████████████████████████| 133885/133885 [00:39<00:00, 3347.39it/s]\n"
     ]
    }
   ],
   "source": [
    "dataset.configurations = load_data(\n",
    "    file_path='../../../colabfit/data/quantum-machine/qm9/dsgdb9nsd/',\n",
    "    file_format='folder',\n",
    "    name_field='name',  # key in ase.Atoms.info to use as the Configuration name\n",
    "    elements=['H', 'C', 'N', 'O', 'F'],    # order matters for CFG files, but not others\n",
    "    default_name='qm9',  # default name with `name_field` not found\n",
    "    reader=reader,\n",
    "    glob_string='*.xyz',\n",
    "    verbose=True\n",
    ")"
   ]
  },
  {
   "cell_type": "code",
   "execution_count": 7,
   "id": "ccde503c",
   "metadata": {},
   "outputs": [],
   "source": [
    "dataset.property_map = property_map\n",
    "\n",
    "dataset.custom_definitions = {'qm9-property': qm9_property_definition}"
   ]
  },
  {
   "cell_type": "code",
   "execution_count": 8,
   "id": "39c0c4d4",
   "metadata": {},
   "outputs": [
    {
     "name": "stderr",
     "output_type": "stream",
     "text": [
      "Parsing data:   0%|                                                                                                                          | 0/133885 [00:00<?, ?it/s]/home/jvita/scripts/colabfit-tools/colabfit/tools/property.py:225: UserWarning: Invalid KIM property-id; Temporarily renaming to tag:@,0000-00-00:property/qm9-property\n",
      "  warnings.warn(f\"Invalid KIM property-id; Temporarily renaming to {dummy_dict['property-id']}\")\n",
      "Parsing data: 100%|███████████████████████████████████████████████████████████████████████████████████████████████████████████| 133885/133885 [00:57<00:00, 2338.44it/s]\n"
     ]
    }
   ],
   "source": [
    "dataset.parse_data(convert_units=False, verbose=True)"
   ]
  },
  {
   "cell_type": "code",
   "execution_count": 9,
   "id": "958cfd6a",
   "metadata": {},
   "outputs": [],
   "source": [
    "dataset.property_settings_regexes = {\n",
    "    '.*':\n",
    "        PropertySettings(\n",
    "            method='DFT/B3LYP/6-31G(2df,p)',\n",
    "            description='QM9 property settings calculation',\n",
    "            files=[],\n",
    "            labels=['DFT', 'B3LYP', '6-31G(2df,p)'],\n",
    "        )\n",
    "}"
   ]
  },
  {
   "cell_type": "code",
   "execution_count": 10,
   "id": "9d10aecd",
   "metadata": {},
   "outputs": [],
   "source": [
    "dataset.resync()"
   ]
  },
  {
   "cell_type": "code",
   "execution_count": 11,
   "id": "3fe3ffd1",
   "metadata": {},
   "outputs": [],
   "source": [
    "dataset.to_markdown(\n",
    "    base_folder='../../../colabfit/data/quantum-machine/qm9/dsgdb9nsd/',\n",
    "    html_file_name='README.md',\n",
    "    data_file_name=dataset.name+'.extxyz',\n",
    "    data_format='xyz',\n",
    ")"
   ]
  },
  {
   "cell_type": "markdown",
   "id": "00e9d012",
   "metadata": {},
   "source": [
    "# Load the smaller dataset"
   ]
  },
  {
   "cell_type": "code",
   "execution_count": 12,
   "id": "d8926c42",
   "metadata": {},
   "outputs": [],
   "source": [
    "small_dataset = Dataset('dsC7O2H10nsd')\n",
    "\n",
    "small_dataset.authors = [\n",
    "    'Raghunathan Ramakrishnan', 'Pavlo Dral', 'Matthias Rupp', 'O. Anatole von Lilienfeld'\n",
    "]\n",
    "\n",
    "small_dataset.links = [\n",
    "    'https://www.nature.com/articles/sdata201422',\n",
    "    'https://figshare.com/collections/Quantum_chemistry_structures_and_properties_of_134_kilo_molecules/978904'\n",
    "]\n",
    "\n",
    "small_dataset.description = \\\n",
    "\"For the predominant stoichiometry, C7H10O2, there are 6,095 \"\\\n",
    "\"constitutional isomers among the 134k molecules. We report \"\\\n",
    "\"energies, enthalpies, and free energies of atomization at the \"\\\n",
    "\"more accurate G4MP2 level of theory for all of them\""
   ]
  },
  {
   "cell_type": "code",
   "execution_count": 13,
   "id": "6fcd9006",
   "metadata": {},
   "outputs": [
    {
     "name": "stderr",
     "output_type": "stream",
     "text": [
      "Loading data: 100%|███████████████████████████████████████████████████████████████████████████████████████████████████████████████| 6095/6095 [00:01<00:00, 3309.30it/s]\n"
     ]
    }
   ],
   "source": [
    "small_dataset.configurations = load_data(\n",
    "    file_path='../../../colabfit/data/quantum-machine/qm9/dsC7O2H10nsd/',\n",
    "    file_format='folder',\n",
    "    name_field='name',  # key in ase.Atoms.info to use as the Configuration name\n",
    "    elements=['H', 'C', 'N', 'O', 'F'],    # order matters for CFG files, but not others\n",
    "    default_name='dsC7O2H10nsd',  # default name with `name_field` not found\n",
    "    reader=reader,\n",
    "    glob_string='*.xyz',\n",
    "    verbose=True\n",
    ")"
   ]
  },
  {
   "cell_type": "code",
   "execution_count": 14,
   "id": "e829d985",
   "metadata": {},
   "outputs": [],
   "source": [
    "small_dataset.property_map = property_map\n",
    "\n",
    "small_dataset.custom_definitions = {'qm9-property': qm9_property_definition}"
   ]
  },
  {
   "cell_type": "code",
   "execution_count": 15,
   "id": "2acccf08",
   "metadata": {},
   "outputs": [
    {
     "name": "stderr",
     "output_type": "stream",
     "text": [
      "Parsing data:   0%|                                                                                                                            | 0/6095 [00:00<?, ?it/s]/home/jvita/scripts/colabfit-tools/colabfit/tools/property.py:225: UserWarning: Invalid KIM property-id; Temporarily renaming to tag:@,0000-00-00:property/qm9-property\n",
      "  warnings.warn(f\"Invalid KIM property-id; Temporarily renaming to {dummy_dict['property-id']}\")\n",
      "Parsing data: 100%|███████████████████████████████████████████████████████████████████████████████████████████████████████████████| 6095/6095 [00:02<00:00, 2467.38it/s]\n"
     ]
    }
   ],
   "source": [
    "small_dataset.parse_data(convert_units=False, verbose=True)"
   ]
  },
  {
   "cell_type": "code",
   "execution_count": 16,
   "id": "6d15459f",
   "metadata": {},
   "outputs": [],
   "source": [
    "atoms = small_dataset.configurations[0]"
   ]
  },
  {
   "cell_type": "code",
   "execution_count": 17,
   "id": "8f33f3a0",
   "metadata": {},
   "outputs": [
    {
     "name": "stdout",
     "output_type": "stream",
     "text": [
      "SMILES from dsC7O2H10nsd_1430 matches dsgdb9nsd_062738\n"
     ]
    }
   ],
   "source": [
    "for ii, atoms2 in enumerate(dataset.configurations):\n",
    "    \n",
    "    if atoms.info['SMILES'] == atoms2.info['SMILES']:\n",
    "        print('SMILES from', atoms.info['name'], 'matches', atoms2.info['name'])\n",
    "        \n",
    "    if atoms.positions.shape == atoms2.positions.shape:\n",
    "        if np.max(np.abs(atoms.positions - atoms2.positions)) < 1e-2:\n",
    "            print('Positions from', atoms.info['name'], 'match', atoms2.info['name'])"
   ]
  },
  {
   "cell_type": "code",
   "execution_count": 18,
   "id": "b67ef8c7",
   "metadata": {},
   "outputs": [],
   "source": [
    "small_dataset.property_settings_regexes = {\n",
    "    '.*':\n",
    "        PropertySettings(\n",
    "            method='G4MP2',\n",
    "            description='QM9 property settings calculation',\n",
    "            files=[],\n",
    "            labels=['G4MP2'],\n",
    "        )\n",
    "}"
   ]
  },
  {
   "cell_type": "code",
   "execution_count": 19,
   "id": "59c077d5",
   "metadata": {},
   "outputs": [],
   "source": [
    "small_dataset.resync()"
   ]
  },
  {
   "cell_type": "markdown",
   "id": "c09c23ec",
   "metadata": {},
   "source": [
    "# Exploration"
   ]
  },
  {
   "cell_type": "markdown",
   "id": "8be02bf2",
   "metadata": {},
   "source": [
    "Results of running command:\n",
    "\n",
    "`dataset.plot_histograms(['a', 'b', 'c', 'mu', 'alpha', 'homo', 'lumo', 'r2', 'zpve', 'u0', 'u', 'h', 'g', 'cv'])`"
   ]
  },
  {
   "cell_type": "markdown",
   "id": "1eb93bbe",
   "metadata": {},
   "source": [
    "<img src=\"./qm9_histograms.png\" width=\"800\" height=\"800\"/>"
   ]
  },
  {
   "cell_type": "code",
   "execution_count": 20,
   "id": "da7c467e",
   "metadata": {},
   "outputs": [
    {
     "name": "stdout",
     "output_type": "stream",
     "text": [
      "{'average': 9.814382088508795, 'std': 1809.4589082320583, 'min': 0.0, 'max': 619867.68314, 'average_abs': 9.814382088508795}\n",
      "{'average': 1.4060972645920007, 'std': 1.5837889998648809, 'min': 0.33712, 'max': 437.90386, 'average_abs': 1.4060972645920007}\n",
      "{'average': 1.1249210272988013, 'std': 1.0956136904779636, 'min': 0.33118, 'max': 282.94545, 'average_abs': 1.1249210272988013}\n"
     ]
    }
   ],
   "source": [
    "print(dataset.get_statistics('a'))\n",
    "print(dataset.get_statistics('b'))\n",
    "print(dataset.get_statistics('c'))"
   ]
  },
  {
   "cell_type": "code",
   "execution_count": 21,
   "id": "882a7c89",
   "metadata": {},
   "outputs": [
    {
     "name": "stderr",
     "output_type": "stream",
     "text": [
      "Filtering data: 100%|████████████████████████████████████████████████████████████████████████████████████████████████████████| 133885/133885 [00:02<00:00, 58895.64it/s]\n"
     ]
    }
   ],
   "source": [
    "clean = dataset.filter(\n",
    "    'data',\n",
    "    lambda p: (p['a']['source-value'] < 20) and (p['b']['source-value'] < 10),\n",
    "    verbose=True\n",
    ")"
   ]
  },
  {
   "cell_type": "markdown",
   "id": "b89b462d",
   "metadata": {},
   "source": [
    "Results of running command:\n",
    "\n",
    "`clean.plot_histograms(['a', 'b', 'c', 'mu', 'alpha', 'homo', 'lumo', 'r2', 'zpve', 'u0', 'u', 'h', 'g', 'cv'])`"
   ]
  },
  {
   "cell_type": "markdown",
   "id": "59086527",
   "metadata": {},
   "source": [
    "<img src=\"./qm9_clean_histograms.png\" width=\"800\" height=\"800\"/>"
   ]
  },
  {
   "cell_type": "code",
   "execution_count": 22,
   "id": "36a83d81",
   "metadata": {},
   "outputs": [
    {
     "name": "stdout",
     "output_type": "stream",
     "text": [
      "{'average': 3.407053427070018, 'std': 1.3368223663235594, 'min': 0.0, 'max': 19.99697, 'average_abs': 3.407053427070018}\n",
      "{'average': 1.3966863945821093, 'std': 0.4581379707257539, 'min': 0.33712, 'max': 9.93509, 'average_abs': 1.3966863945821093}\n",
      "{'average': 1.1177706236464615, 'std': 0.3287984573560261, 'min': 0.33118, 'max': 6.46247, 'average_abs': 1.1177706236464615}\n"
     ]
    }
   ],
   "source": [
    "print(clean.get_statistics('a'))\n",
    "print(clean.get_statistics('b'))\n",
    "print(clean.get_statistics('c'))"
   ]
  },
  {
   "cell_type": "code",
   "execution_count": null,
   "id": "09020549",
   "metadata": {},
   "outputs": [],
   "source": []
  }
 ],
 "metadata": {
  "kernelspec": {
   "display_name": "Python 3 (ipykernel)",
   "language": "python",
   "name": "python3"
  },
  "language_info": {
   "codemirror_mode": {
    "name": "ipython",
    "version": 3
   },
   "file_extension": ".py",
   "mimetype": "text/x-python",
   "name": "python",
   "nbconvert_exporter": "python",
   "pygments_lexer": "ipython3",
   "version": "3.8.11"
  }
 },
 "nbformat": 4,
 "nbformat_minor": 5
}
