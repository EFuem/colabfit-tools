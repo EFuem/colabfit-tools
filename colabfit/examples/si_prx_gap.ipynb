{
 "cells": [
  {
   "cell_type": "markdown",
   "id": "8dd31ea2",
   "metadata": {},
   "source": [
    "This notebook serves as an example of how to load and manipulate the [Si GAP dataset](https://www.repository.cam.ac.uk/handle/1810/317974) using a `Dataset` object."
   ]
  },
  {
   "cell_type": "markdown",
   "id": "d399b20b",
   "metadata": {},
   "source": [
    "# Imports"
   ]
  },
  {
   "cell_type": "code",
   "execution_count": null,
   "id": "265439f0",
   "metadata": {},
   "outputs": [],
   "source": [
    "import os\n",
    "import numpy as np\n",
    "\n",
    "from ase import Atoms\n",
    "\n",
    "from colabfit.tools.dataset import Dataset, load_data\n",
    "from colabfit.tools.property_settings import PropertySettings"
   ]
  },
  {
   "cell_type": "markdown",
   "id": "e17a88a5",
   "metadata": {},
   "source": [
    "# Dataset preparation"
   ]
  },
  {
   "cell_type": "code",
   "execution_count": null,
   "id": "f2392d12",
   "metadata": {},
   "outputs": [],
   "source": [
    "dataset = Dataset('Si_PRX_GAP')\n",
    "\n",
    "dataset.authors = [\n",
    "    'Albert P. Bartók', 'James Kermode', 'Noam Bernstein', 'Gábor Csányi'\n",
    "]\n",
    "\n",
    "dataset.links = [\n",
    "    'https://journals.aps.org/prx/abstract/10.1103/PhysRevX.8.041048',\n",
    "    'https://www.repository.cam.ac.uk/handle/1810/317974'\n",
    "]\n",
    "\n",
    "dataset.description = \\\n",
    "\"The original DFT training data for the general-purpose silicon \"\\\n",
    "\"interatomic potential described in the associated publication.\"\\\n",
    "\" The kinds of configuration that we include are chosen using \"\\\n",
    "\"intuition and past experience to guide what needs to be included \"\\\n",
    "\"to obtain good coverage pertaining to a range of properties.\""
   ]
  },
  {
   "cell_type": "code",
   "execution_count": null,
   "id": "73d2b57a",
   "metadata": {},
   "outputs": [],
   "source": [
    "dataset.property_map = {\n",
    "    'default': {\n",
    "        # Property Definition field: {'field': ASE field, 'units': ASE-readable units}\n",
    "        'energy': {'field': 'dft_energy', 'units': 'eV'},\n",
    "        'forces': {'field': 'dft_force', 'units': 'eV/Ang'},\n",
    "        'virial': {'field': 'dft_virial', 'units': 'GPa'}\n",
    "    }\n",
    "}"
   ]
  },
  {
   "cell_type": "code",
   "execution_count": null,
   "id": "0420a9b0",
   "metadata": {},
   "outputs": [],
   "source": [
    "dataset.configurations = load_data(\n",
    "    file_path='../../../colabfit/data/gap_si/gp_iter6_sparse9k.xml.xyz',\n",
    "    file_format='xyz',\n",
    "    name_field=None,  # key in ase.Atoms.info to use as the Configuration name\n",
    "    elements=['Si'],\n",
    "    default_name=dataset.name,  # default name with `name_field` not found\n",
    "    verbose=True\n",
    ")"
   ]
  },
  {
   "cell_type": "code",
   "execution_count": null,
   "id": "592f28db",
   "metadata": {},
   "outputs": [],
   "source": [
    "len(dataset.configurations)"
   ]
  },
  {
   "cell_type": "code",
   "execution_count": null,
   "id": "6fbd8fc4",
   "metadata": {},
   "outputs": [],
   "source": [
    "# Renaming some mismatched \n",
    "for i, conf in enumerate(dataset.configurations):\n",
    "    for old_name, new_name in zip(\n",
    "        ['DFT_energy', 'DFT_force', 'DFT_virial'],\n",
    "        ['dft_energy', 'dft_force', 'dft_virial']\n",
    "    ):\n",
    "        if old_name in conf.info:\n",
    "            conf.info[new_name] = conf.info[old_name]\n",
    "            del conf.info[old_name]\n",
    "        elif old_name in conf.arrays:\n",
    "            conf.arrays[new_name] = conf.arrays[old_name]\n",
    "            del conf.arrays[old_name]"
   ]
  },
  {
   "cell_type": "code",
   "execution_count": null,
   "id": "5e3afef8",
   "metadata": {},
   "outputs": [],
   "source": [
    "dataset.parse_data(convert_units=False, verbose=True)"
   ]
  },
  {
   "cell_type": "markdown",
   "id": "db1bc659",
   "metadata": {},
   "source": [
    "# Exploring data"
   ]
  },
  {
   "cell_type": "code",
   "execution_count": null,
   "id": "57c1fb04",
   "metadata": {},
   "outputs": [],
   "source": [
    "dataset.plot_histograms(yscale='log')"
   ]
  },
  {
   "cell_type": "code",
   "execution_count": null,
   "id": "897e0915",
   "metadata": {},
   "outputs": [],
   "source": []
  }
 ],
 "metadata": {
  "kernelspec": {
   "display_name": "Python 3 (ipykernel)",
   "language": "python",
   "name": "python3"
  },
  "language_info": {
   "codemirror_mode": {
    "name": "ipython",
    "version": 3
   },
   "file_extension": ".py",
   "mimetype": "text/x-python",
   "name": "python",
   "nbconvert_exporter": "python",
   "pygments_lexer": "ipython3",
   "version": "3.8.11"
  }
 },
 "nbformat": 4,
 "nbformat_minor": 5
}
