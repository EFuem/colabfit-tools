{
 "cells": [
  {
   "cell_type": "code",
   "execution_count": null,
   "id": "8e6cab58",
   "metadata": {},
   "outputs": [],
   "source": [
    "from colabfit.tools.database import MongoDatabase, load_data\n",
    "from colabfit.tools.property_settings import PropertySettings\n",
    "\n",
    "client = MongoDatabase('colabfit_database', nprocs=1)"
   ]
  },
  {
   "cell_type": "markdown",
   "id": "48282525",
   "metadata": {},
   "source": [
    "# Number of configurations"
   ]
  },
  {
   "cell_type": "code",
   "execution_count": null,
   "id": "9dc97f27",
   "metadata": {},
   "outputs": [],
   "source": [
    "client.configurations.count_documents({})"
   ]
  },
  {
   "cell_type": "markdown",
   "id": "d0b730de",
   "metadata": {},
   "source": [
    "# Number of properties"
   ]
  },
  {
   "cell_type": "code",
   "execution_count": null,
   "id": "7fc659fa",
   "metadata": {},
   "outputs": [],
   "source": [
    "client.properties.count_documents({})"
   ]
  },
  {
   "cell_type": "code",
   "execution_count": null,
   "id": "eeb1ff06",
   "metadata": {},
   "outputs": [],
   "source": []
  },
  {
   "cell_type": "markdown",
   "id": "6e90f8f2",
   "metadata": {},
   "source": [
    "# Number of datasets"
   ]
  },
  {
   "cell_type": "code",
   "execution_count": null,
   "id": "e7617f40",
   "metadata": {},
   "outputs": [],
   "source": [
    "client.datasets.count_documents({})"
   ]
  },
  {
   "cell_type": "markdown",
   "id": "ba064aa1",
   "metadata": {},
   "source": [
    "## Names of datasets"
   ]
  },
  {
   "cell_type": "code",
   "execution_count": null,
   "id": "ac9074a8",
   "metadata": {},
   "outputs": [],
   "source": [
    "sorted(list(client.datasets.find({}, {'name'})), key=lambda x: x['name'].lower())"
   ]
  },
  {
   "cell_type": "markdown",
   "id": "d73f0981",
   "metadata": {},
   "source": [
    "# Number of configuration sets"
   ]
  },
  {
   "cell_type": "code",
   "execution_count": null,
   "id": "e673ee77",
   "metadata": {},
   "outputs": [],
   "source": [
    "client.configuration_sets.count_documents({})"
   ]
  },
  {
   "cell_type": "markdown",
   "id": "8697b574",
   "metadata": {},
   "source": [
    "## All configuration sets, and their linked datasets"
   ]
  },
  {
   "cell_type": "code",
   "execution_count": null,
   "id": "34569b5d",
   "metadata": {
    "scrolled": true
   },
   "outputs": [],
   "source": [
    "cursor = client.configuration_sets.aggregate([\n",
    "    {'$project': {'relationships.datasets': 1}},\n",
    "    {'$unwind': '$relationships.datasets'},\n",
    "    {'$project': {'ds_id': '$relationships.datasets'}},\n",
    "    {'$lookup': {\n",
    "        'from': 'datasets',\n",
    "        'localField': 'ds_id',\n",
    "        'foreignField': '_id',\n",
    "        'as': 'linked_ds'\n",
    "    }},\n",
    "    {'$project': {'ds_name': '$linked_ds.name'}}\n",
    "])\n",
    "\n",
    "sorted(list(cursor), key=lambda x: x['ds_name'][0].lower())"
   ]
  },
  {
   "cell_type": "markdown",
   "id": "b976a473",
   "metadata": {},
   "source": [
    "## Configuration sets that are tied to more than one dataset"
   ]
  },
  {
   "cell_type": "code",
   "execution_count": null,
   "id": "63ec025f",
   "metadata": {},
   "outputs": [],
   "source": [
    "client.configuration_sets.count_documents({'relationships.datasets.1': {'$exists': True}})"
   ]
  },
  {
   "cell_type": "code",
   "execution_count": null,
   "id": "9657d94b",
   "metadata": {},
   "outputs": [],
   "source": [
    "cursor = client.configuration_sets.aggregate([\n",
    "    {'$match': {'relationships.datasets.1': {'$exists': True}}},\n",
    "    {'$project': {'relationships.datasets': 1}},\n",
    "    {'$unwind': '$relationships.datasets'},\n",
    "    {'$project': {'ds_id': '$relationships.datasets'}},\n",
    "    {'$lookup': {\n",
    "        'from': 'datasets',\n",
    "        'localField': 'ds_id',\n",
    "        'foreignField': '_id',\n",
    "        'as': 'linked_ds'\n",
    "    }},\n",
    "    {'$project': {'ds_name': '$linked_ds.name'}}\n",
    "])\n",
    "\n",
    "list(cursor)"
   ]
  },
  {
   "cell_type": "markdown",
   "id": "39e3800a",
   "metadata": {},
   "source": [
    "# Total number of atoms"
   ]
  },
  {
   "cell_type": "code",
   "execution_count": null,
   "id": "9e214e79",
   "metadata": {},
   "outputs": [],
   "source": [
    "next(client.configurations.aggregate([\n",
    "    {'$group': {'_id': None, 'sum': {'$sum': '$nsites'}}}\n",
    "]))"
   ]
  },
  {
   "cell_type": "markdown",
   "id": "c1f4e366",
   "metadata": {},
   "source": [
    "# Total number of configuration labels"
   ]
  },
  {
   "cell_type": "code",
   "execution_count": null,
   "id": "aacb659f",
   "metadata": {},
   "outputs": [],
   "source": [
    "cursor = client.configurations.aggregate([\n",
    "#     { \"$match\": { \"_id\": { \"$in\": [1, 2] } } },\n",
    "    {\"$group\": {\"_id\": None, \"labels\": { \"$push\": \"$labels\" }}},\n",
    "    {\n",
    "        \"$project\": {\n",
    "            \"labels\": {\n",
    "                \"$reduce\": {\n",
    "                    \"input\": \"$labels\",\n",
    "                    \"initialValue\": [],\n",
    "                    \"in\": { \"$setUnion\": [\"$$value\", \"$$this\"] }\n",
    "                }\n",
    "            }\n",
    "        }\n",
    "    }\n",
    "])\n",
    "\n",
    "labels = next(cursor)['labels']\n",
    "len(labels)"
   ]
  },
  {
   "cell_type": "markdown",
   "id": "a50d04d0",
   "metadata": {},
   "source": [
    "## Counts for each label"
   ]
  },
  {
   "cell_type": "code",
   "execution_count": null,
   "id": "aa21dff0",
   "metadata": {},
   "outputs": [],
   "source": [
    "cursor = client.configurations.aggregate([\n",
    "    {'$unwind': '$labels'},\n",
    "    {'$group': {'_id': '$labels', 'count': {'$sum': 1}}}\n",
    "])\n",
    "\n",
    "sorted(cursor, key=lambda x: x['count'], reverse=True)"
   ]
  },
  {
   "cell_type": "code",
   "execution_count": null,
   "id": "58ccfb7e",
   "metadata": {},
   "outputs": [],
   "source": []
  }
 ],
 "metadata": {
  "kernelspec": {
   "display_name": "Python 3 (ipykernel)",
   "language": "python",
   "name": "python3"
  },
  "language_info": {
   "codemirror_mode": {
    "name": "ipython",
    "version": 3
   },
   "file_extension": ".py",
   "mimetype": "text/x-python",
   "name": "python",
   "nbconvert_exporter": "python",
   "pygments_lexer": "ipython3",
   "version": "3.8.11"
  }
 },
 "nbformat": 4,
 "nbformat_minor": 5
}
