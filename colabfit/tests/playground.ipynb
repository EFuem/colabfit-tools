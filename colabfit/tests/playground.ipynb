{
 "cells": [
  {
   "cell_type": "markdown",
   "metadata": {},
   "source": [
    "# Imports"
   ]
  },
  {
   "cell_type": "code",
   "execution_count": 2,
   "metadata": {},
   "outputs": [],
   "source": [
    "from ase import Atoms\n",
    "from colabfit.tools.configuration import Configuration"
   ]
  },
  {
   "cell_type": "markdown",
   "metadata": {},
   "source": [
    "# Configurations"
   ]
  },
  {
   "cell_type": "code",
   "execution_count": null,
   "metadata": {},
   "outputs": [],
   "source": []
  },
  {
   "cell_type": "code",
   "execution_count": null,
   "metadata": {},
   "outputs": [],
   "source": []
  },
  {
   "cell_type": "code",
   "execution_count": null,
   "metadata": {},
   "outputs": [],
   "source": []
  },
  {
   "cell_type": "code",
   "execution_count": null,
   "metadata": {},
   "outputs": [],
   "source": []
  },
  {
   "cell_type": "code",
   "execution_count": null,
   "metadata": {},
   "outputs": [],
   "source": []
  },
  {
   "cell_type": "code",
   "execution_count": null,
   "metadata": {},
   "outputs": [],
   "source": []
  },
  {
   "cell_type": "code",
   "execution_count": null,
   "metadata": {},
   "outputs": [],
   "source": []
  },
  {
   "cell_type": "code",
   "execution_count": null,
   "metadata": {},
   "outputs": [],
   "source": []
  },
  {
   "cell_type": "code",
   "execution_count": null,
   "metadata": {},
   "outputs": [],
   "source": []
  },
  {
   "cell_type": "code",
   "execution_count": null,
   "metadata": {},
   "outputs": [],
   "source": []
  },
  {
   "cell_type": "code",
   "execution_count": null,
   "metadata": {},
   "outputs": [],
   "source": []
  },
  {
   "cell_type": "code",
   "execution_count": null,
   "metadata": {},
   "outputs": [],
   "source": []
  },
  {
   "cell_type": "code",
   "execution_count": null,
   "metadata": {},
   "outputs": [],
   "source": []
  },
  {
   "cell_type": "code",
   "execution_count": null,
   "metadata": {},
   "outputs": [],
   "source": []
  },
  {
   "cell_type": "code",
   "execution_count": null,
   "metadata": {},
   "outputs": [],
   "source": []
  },
  {
   "cell_type": "code",
   "execution_count": null,
   "metadata": {},
   "outputs": [],
   "source": []
  },
  {
   "cell_type": "code",
   "execution_count": null,
   "metadata": {},
   "outputs": [],
   "source": []
  },
  {
   "cell_type": "code",
   "execution_count": null,
   "metadata": {},
   "outputs": [],
   "source": []
  },
  {
   "cell_type": "code",
   "execution_count": null,
   "metadata": {},
   "outputs": [],
   "source": []
  },
  {
   "cell_type": "code",
   "execution_count": null,
   "metadata": {},
   "outputs": [],
   "source": []
  },
  {
   "cell_type": "code",
   "execution_count": null,
   "metadata": {},
   "outputs": [],
   "source": []
  },
  {
   "cell_type": "code",
   "execution_count": null,
   "metadata": {},
   "outputs": [],
   "source": []
  },
  {
   "cell_type": "code",
   "execution_count": null,
   "metadata": {},
   "outputs": [],
   "source": []
  },
  {
   "cell_type": "code",
   "execution_count": null,
   "metadata": {},
   "outputs": [],
   "source": []
  },
  {
   "cell_type": "code",
   "execution_count": null,
   "metadata": {},
   "outputs": [],
   "source": []
  },
  {
   "cell_type": "code",
   "execution_count": null,
   "metadata": {},
   "outputs": [],
   "source": []
  },
  {
   "cell_type": "code",
   "execution_count": 3,
   "metadata": {},
   "outputs": [
    {
     "name": "stdout",
     "output_type": "stream",
     "text": [
      "0 (n_sites=100, regex=\"^sc\"): Simple cubic crystals with random lattice distortions\n",
      "1 (n_sites=5760, regex=\"^liquid\"): Liquid W with densities around the experimental density of 17.6 g/cm^3\n",
      "2 (n_sites=5390, regex=\"short_range\"): BCC crystals with random interstitial atom defects to capture short-range many-body dynamics\n",
      "3 (n_sites=10600, regex=\"^vacancy\"): Single-vacancy configurations\n",
      "4 (n_sites=1180, regex=\"di-vacancy\"): Divacancy configurations\n",
      "5 (n_sites=1080, regex=\"phonon\"): MD snapshots taken at 1000K for three different volumes\n",
      "6 (n_sites=1996, regex=\"slice_sample\"): Randomly distorted primitive bcc unit cells drawn from Szlachta et al.'s database\n",
      "7 (n_sites=100, regex=\"fcc\"): FCC crystals with random lattice distortions\n",
      "8 (n_sites=1000, regex=\"bcc_distorted\"): BCC configurations with random strains up to +/- 30% to help train the far-from-equilibrium elastic response\n",
      "9 (n_sites=26, regex=\"dimer\"): Dimers to fit to the full dissociation curve starting from 1.1 angstrom\n",
      "10 (n_sites=516, regex=\"surface_111\"): (111) surface configurations\n",
      "11 (n_sites=600, regex=\"C15\"): C15 configurations with random lattice distortions\n",
      "12 (n_sites=200, regex=\"dia\"): Diamond configurations with random lattice distortions\n",
      "13 (n_sites=200, regex=\"hcp\"): HCP configurations with random lattice distortions\n",
      "14 (n_sites=3264, regex=\"surf_liquid\"): Damaged and half-molten (110) and (100) surfaces\n",
      "15 (n_sites=540, regex=\"surface_100\"): Configurations with single self-interstitial defects\n",
      "16 (n_sites=3872, regex=\"^sia\"): Configurations with single self-interstitial defects\n",
      "17 (n_sites=540, regex=\"surface_112\"): (112) surface configurations\n",
      "18 (n_sites=540, regex=\"surface_110\"): (110) surface configurations\n",
      "19 (n_sites=1755, regex=\"tri-vacancy\"): Trivacancy configurations\n",
      "20 (n_sites=800, regex=\"A15\"): A15 configurations with random lattice distortions\n",
      "21 (n_sites=1, regex=\"isolated_atom\"): Isolated W atom\n",
      "22 (n_sites=2350, regex=\"di-SIA\"): Configurations with two self-interstitial defects\n"
     ]
    }
   ],
   "source": [
    "ds1.print_config_sets()"
   ]
  },
  {
   "cell_type": "code",
   "execution_count": 4,
   "metadata": {},
   "outputs": [
    {
     "name": "stderr",
     "output_type": "stream",
     "text": [
      "/home/josh/colabfit-tools/core/dataset.py:996: UserWarning: No configurations were added to the default CS. \"default\" was removed from the regexes.\n",
      "  warnings.warn(no_default_configs)\n"
     ]
    },
    {
     "name": "stdout",
     "output_type": "stream",
     "text": [
      "0 Simple cubic crystals with random lattice distortions\n",
      "6 Randomly distorted primitive bcc unit cells drawn from Szlachta et al.'s database\n",
      "7 FCC crystals with random lattice distortions\n",
      "9 Dimers to fit to the full dissociation curve starting from 1.1 angstrom\n"
     ]
    },
    {
     "name": "stderr",
     "output_type": "stream",
     "text": [
      "Extracting configuration sets: 100%|██████████| 3749/3749 [00:00<00:00, 51091.71it/s]\n"
     ]
    },
    {
     "name": "stdout",
     "output_type": "stream",
     "text": [
      "9 Dimers to fit to the full dissociation curve starting from 1.1 angstrom\n"
     ]
    },
    {
     "name": "stderr",
     "output_type": "stream",
     "text": [
      "Extracting configuration sets: 100%|██████████| 3749/3749 [00:00<00:00, 116317.12it/s]\n"
     ]
    }
   ],
   "source": [
    "smaller_ds  = ds1.dataset_from_config_sets([0, 6, 7, 9, ], verbose=True)\n",
    "dimers_only = ds1.dataset_from_config_sets(9, verbose=True)"
   ]
  },
  {
   "cell_type": "code",
   "execution_count": 5,
   "metadata": {},
   "outputs": [],
   "source": [
    "smaller_ds.resync()\n",
    "dimers_only.resync()"
   ]
  },
  {
   "cell_type": "code",
   "execution_count": 6,
   "metadata": {},
   "outputs": [
    {
     "name": "stdout",
     "output_type": "stream",
     "text": [
      "0 (n_sites=100, regex=\"^sc\"): Simple cubic crystals with random lattice distortions\n",
      "1 (n_sites=1996, regex=\"slice_sample\"): Randomly distorted primitive bcc unit cells drawn from Szlachta et al.'s database\n",
      "2 (n_sites=100, regex=\"fcc\"): FCC crystals with random lattice distortions\n",
      "3 (n_sites=26, regex=\"dimer\"): Dimers to fit to the full dissociation curve starting from 1.1 angstrom\n"
     ]
    }
   ],
   "source": [
    "smaller_ds.print_config_sets()"
   ]
  },
  {
   "cell_type": "code",
   "execution_count": 7,
   "metadata": {},
   "outputs": [
    {
     "name": "stdout",
     "output_type": "stream",
     "text": [
      "0 (n_sites=26, regex=\"dimer\"): Dimers to fit to the full dissociation curve starting from 1.1 angstrom\n"
     ]
    }
   ],
   "source": [
    "dimers_only.print_config_sets()"
   ]
  },
  {
   "cell_type": "code",
   "execution_count": 8,
   "metadata": {},
   "outputs": [
    {
     "name": "stdout",
     "output_type": "stream",
     "text": [
      "2222\n",
      "26\n"
     ]
    }
   ],
   "source": [
    "print(smaller_ds.n_sites)\n",
    "print(dimers_only.n_sites)"
   ]
  },
  {
   "cell_type": "code",
   "execution_count": 9,
   "metadata": {},
   "outputs": [],
   "source": [
    "import numpy as np\n",
    "from scipy.optimize import least_squares\n",
    "from ase.calculators.lj import LennardJones"
   ]
  },
  {
   "cell_type": "code",
   "execution_count": 10,
   "metadata": {},
   "outputs": [],
   "source": [
    "def LJWrapper(sig, eps, dataset):\n",
    "    calc = LennardJones(sigma=sig, epsilon=eps)\n",
    "\n",
    "    predicted = []\n",
    "    for atoms in dataset.configurations:\n",
    "        atoms.calc = calc\n",
    "        predicted.append(atoms.get_potential_energy())\n",
    "\n",
    "    return np.array(predicted)\n",
    "\n",
    "def objective(parameters, **kwargs):\n",
    "    dataset = kwargs['dataset']\n",
    "\n",
    "    true_energies = np.array(\n",
    "        [e['source-value'] for e in dataset.get_data('energy')]\n",
    "    )\n",
    "\n",
    "    err = true_energies - LJWrapper(*parameters, dataset=dataset)\n",
    "    print(np.sqrt(np.average(err**2)))\n",
    "    return err"
   ]
  },
  {
   "cell_type": "code",
   "execution_count": 11,
   "metadata": {},
   "outputs": [
    {
     "name": "stdout",
     "output_type": "stream",
     "text": [
      "5115.622970467144\n",
      "5115.622970467144\n",
      "5115.622970467144\n",
      "5115.623887223803\n",
      "5115.62289423415\n",
      "6135.933964420484\n",
      "1133.8077987866584\n",
      "1133.8080020524992\n",
      "1133.8077818892773\n",
      "27196.300080372544\n",
      "505.6499912736247\n",
      "505.6500819519142\n",
      "505.6499837396796\n",
      "201.77994421678173\n",
      "201.77998020565104\n",
      "201.7799472068376\n",
      "36.62503616098877\n",
      "36.625041992095326\n",
      "36.6250366391916\n",
      "12.74810680569911\n",
      "12.748106788448748\n",
      "12.748106803084836\n",
      "40436.3837891307\n",
      "12.505977945618385\n",
      "12.505977932902388\n",
      "12.505977940586464\n",
      "12.342077890432053\n",
      "12.342077881377573\n",
      "12.342077883886246\n",
      "12.11585500151373\n",
      "12.115854971722568\n",
      "12.11585499157846\n",
      "11.69286664060519\n",
      "11.692866605150613\n",
      "11.69286662597459\n",
      "11.068450046375174\n",
      "11.068449955667372\n",
      "11.068450022720087\n",
      "9.914749014168137\n",
      "9.914748910884533\n",
      "9.914748978471609\n",
      "8.462212315343564\n",
      "8.462212022292178\n",
      "8.46221225720307\n",
      "5.945666327414453\n",
      "5.945665936933852\n",
      "5.945666247416621\n",
      "4.572992769113608\n",
      "4.572991970367894\n",
      "4.5729926938981835\n",
      "3.747990488596405\n",
      "3.747990690675687\n",
      "3.747990499453807\n",
      "3.7176079745921027\n",
      "3.7176079694710755\n",
      "3.717607970843603\n",
      "3.7155989888730017\n",
      "3.715598986499277\n",
      "3.715598988761806\n",
      "3.715593743250563\n",
      "3.7155937433336117\n",
      "3.7155937432504125\n",
      "3.7155937289128778\n",
      "3.7155937289128778\n",
      "3.7155937980694884\n",
      "3.715593794267183\n",
      "3.715593729669375\n",
      "3.715593729668601\n"
     ]
    }
   ],
   "source": [
    "results1 = least_squares(objective, x0=[3.0, -1], method='lm', kwargs={'dataset': smaller_ds})"
   ]
  },
  {
   "cell_type": "code",
   "execution_count": 13,
   "metadata": {},
   "outputs": [
    {
     "name": "stdout",
     "output_type": "stream",
     "text": [
      "66713.93401163857\n",
      "66713.93401163857\n",
      "66713.93401163857\n",
      "66713.94596197132\n",
      "66713.93301790743\n",
      "6839.028024927791\n",
      "6839.029254956303\n",
      "6839.02812722086\n",
      "2406.4299206661403\n",
      "2406.4303570294437\n",
      "2406.429956907838\n",
      "667.1122336578122\n",
      "667.1123585212724\n",
      "667.1122439795423\n",
      "97.16333270656658\n",
      "97.1633550751853\n",
      "97.16333451573425\n",
      "20.554996921134865\n",
      "20.554995300948743\n",
      "20.554996811311113\n",
      "12.530656459874962\n",
      "12.530659608094918\n",
      "12.530656677512269\n",
      "11.103789162434245\n",
      "11.103789015179517\n",
      "11.103789152472752\n",
      "11.100032683647482\n",
      "11.100032681584027\n",
      "11.100032683510491\n",
      "11.1000319806133\n",
      "11.100031980615102\n",
      "11.100031980613311\n",
      "11.100031980612286\n",
      "11.100031980612286\n",
      "11.100032231468116\n",
      "11.100032231502688\n",
      "11.10003198173372\n",
      "11.100031981733819\n"
     ]
    }
   ],
   "source": [
    "results2 = least_squares(objective, x0=[3.0, -1], method='lm', kwargs={'dataset': dimers_only})"
   ]
  },
  {
   "cell_type": "code",
   "execution_count": 14,
   "metadata": {},
   "outputs": [],
   "source": [
    "lj1 = LennardJones(sigma=results1.x[0], epsilon=results1.x[1])\n",
    "lj2 = LennardJones(sigma=results2.x[0], epsilon=results2.x[1])"
   ]
  },
  {
   "cell_type": "code",
   "execution_count": 24,
   "metadata": {},
   "outputs": [],
   "source": [
    "import matplotlib.pyplot as plt\n",
    "import ase.build\n",
    "\n",
    "atoms2 = ase.build.bulk('Ta', 'bcc', cubic=True, a=1)\n",
    "\n",
    "low = 1.0; high = 6.0\n",
    "\n",
    "both_energies = []\n",
    "latconsts = []\n",
    "for calc in [lj1, lj2]:\n",
    "    energies = []\n",
    "    a_trace = np.linspace(low, high, 100)\n",
    "\n",
    "    for ii, a in enumerate(a_trace):\n",
    "        \n",
    "        scaled_atoms = atoms2.copy()\n",
    "\n",
    "        cell = scaled_atoms.get_cell()\n",
    "        cell[0,0] = cell[1,1] = cell[2, 2,] = a\n",
    "        scaled_atoms.set_cell(cell, scale_atoms=True)\n",
    "        \n",
    "        scaled_atoms.calc = calc\n",
    "        eng = scaled_atoms.get_potential_energy()\n",
    "        \n",
    "        energies.append(eng)\n",
    "\n",
    "    both_energies.append(energies)\n",
    "    latconsts.append(a_trace[np.argmin(energies)])"
   ]
  },
  {
   "cell_type": "code",
   "execution_count": 35,
   "metadata": {},
   "outputs": [
    {
     "data": {
      "text/plain": [
       "<matplotlib.legend.Legend at 0x7fafc6d70190>"
      ]
     },
     "execution_count": 35,
     "metadata": {},
     "output_type": "execute_result"
    },
    {
     "data": {
      "image/png": "[encoded data removed]",
      "text/plain": [
       "<Figure size 432x288 with 1 Axes>"
      ]
     },
     "metadata": {
      "needs_background": "light"
     },
     "output_type": "display_data"
    }
   ],
   "source": [
    "plt.plot(a_trace, both_energies[0], c='g', label='full')\n",
    "plt.plot([latconsts[0], latconsts[0]], [-50, 100], c='g', label='{:.2f}'.format(latconsts[0]))\n",
    "plt.plot(a_trace, both_energies[1], c='b', label='bcc')\n",
    "plt.plot([latconsts[1], latconsts[1]], [-50, 100], c='b', label='{:.2f}'.format(latconsts[1]))\n",
    "plt.plot([2.76, 2.76], [-50, 100], c='b', label='{:.2f}'.format(latconsts[1]))\n",
    "plt.ylim([-2000, 1000])\n",
    "plt.legend()"
   ]
  },
  {
   "cell_type": "code",
   "execution_count": 23,
   "metadata": {},
   "outputs": [
    {
     "name": "stdout",
     "output_type": "stream",
     "text": [
      "[  1.20795733 110.75024791]\n",
      "[1.44574103 3.71864973]\n"
     ]
    }
   ],
   "source": [
    "print(results1.x)\n",
    "print(results2.x)"
   ]
  },
  {
   "cell_type": "code",
   "execution_count": 21,
   "metadata": {},
   "outputs": [
    {
     "data": {
      "text/plain": [
       "<matplotlib.legend.Legend at 0x7fafc74479a0>"
      ]
     },
     "execution_count": 21,
     "metadata": {},
     "output_type": "execute_result"
    },
    {
     "data": {
      "image/png": "[encoded data removed]",
      "text/plain": [
       "<Figure size 432x288 with 1 Axes>"
      ]
     },
     "metadata": {
      "needs_background": "light"
     },
     "output_type": "display_data"
    }
   ],
   "source": [
    "configs = dimers_only.configurations\n",
    "latparams = np.array([np.linalg.norm(c.positions[1] - c.positions[0]) for c in configs])\n",
    "\n",
    "calc_energies1 = np.array([lj1.get_potential_energy(atoms) for atoms in configs])\n",
    "calc_energies2 = np.array([lj2.get_potential_energy(atoms) for atoms in configs])\n",
    "\n",
    "true_energies = np.array([_['source-value'] for _ in dimers_only.get_data('energy')])\n",
    "\n",
    "argsort = np.argsort(latparams)\n",
    "\n",
    "plt.plot(latparams[argsort], true_energies[argsort], label='true')\n",
    "plt.plot(latparams[argsort], calc_energies1[argsort], label='1')\n",
    "plt.plot(latparams[argsort], calc_energies2[argsort], label='2')\n",
    "plt.legend()"
   ]
  },
  {
   "cell_type": "code",
   "execution_count": 4,
   "metadata": {},
   "outputs": [],
   "source": [
    "names = [\n",
    "    'InP_JPCA2020',\n",
    "    'Mo_PRM2019',\n",
    "    'Nb_PRM2019',\n",
    "    'Ta_Linear_JCP2015',\n",
    "    'Ta_PRM2019',\n",
    "    'V_PRM2019',\n",
    "    'WBe_PRB2019',\n",
    "    'W_PRB2019',\n",
    "    'TiZrHfTa_APS2021',\n",
    "    'CuPd_CMS2019',\n",
    "    'CoNbV_CMS2019',\n",
    "    'AlNiTi_CMS2019',\n",
    "    'MoNbTaVW_PRB2021',\n",
    "]\n",
    "\n",
    "names = [\n",
    "    'InP_JPCA2020',\n",
    "    'MoNbTaVW_PRB2021',\n",
    "    'Mo_PRM2019',\n",
    "    'Nb_PRM2019',\n",
    "    'Ta_Linear_JCP2015',\n",
    "    'Ta_PRM2019',\n",
    "    'V_PRM2019',\n",
    "    'WBe_PRB2019',\n",
    "    'W_PRB2019',\n",
    "    'TiZrHfTa_APS2021',\n",
    "    'CuPd_CMS2019',\n",
    "    'CoNbV_CMS2019',\n",
    "    'AlNiTi_CMS2019',\n",
    "]"
   ]
  },
  {
   "cell_type": "code",
   "execution_count": 5,
   "metadata": {},
   "outputs": [
    {
     "name": "stderr",
     "output_type": "stream",
     "text": [
      "/home/josh/colabfit-tools/core/dataset.py:996: UserWarning: No configurations were added to the default CS. \"default\" was removed from the regexes.\n",
      "  warnings.warn(no_default_configs)\n"
     ]
    },
    {
     "name": "stdout",
     "output_type": "stream",
     "text": [
      "Attaching InP_JPCA2020\n"
     ]
    },
    {
     "name": "stderr",
     "output_type": "stream",
     "text": [
      "Loading data: 100%|██████████| 1894/1894 [00:00<00:00, 9848.81it/s]\n",
      "Parsing data: 100%|██████████| 1894/1894 [00:01<00:00, 1710.07it/s]\n"
     ]
    },
    {
     "ename": "KeyboardInterrupt",
     "evalue": "",
     "output_type": "error",
     "traceback": [
      "\u001b[0;31m---------------------------------------------------------------------------\u001b[0m",
      "\u001b[0;31mKeyboardInterrupt\u001b[0m                         Traceback (most recent call last)",
      "\u001b[0;32m/tmp/ipykernel_22628/845484866.py\u001b[0m in \u001b[0;36m<module>\u001b[0;34m\u001b[0m\n\u001b[1;32m      4\u001b[0m     \u001b[0mprint\u001b[0m\u001b[0;34m(\u001b[0m\u001b[0;34m'Attaching'\u001b[0m\u001b[0;34m,\u001b[0m \u001b[0mname\u001b[0m\u001b[0;34m)\u001b[0m\u001b[0;34m\u001b[0m\u001b[0;34m\u001b[0m\u001b[0m\n\u001b[1;32m      5\u001b[0m \u001b[0;34m\u001b[0m\u001b[0m\n\u001b[0;32m----> 6\u001b[0;31m     master.merge(Dataset.from_markdown(\n\u001b[0m\u001b[1;32m      7\u001b[0m         \u001b[0;34mf'/home/josh/colabfit/data/formatted/{name}/README.md'\u001b[0m\u001b[0;34m,\u001b[0m\u001b[0;34m\u001b[0m\u001b[0;34m\u001b[0m\u001b[0m\n\u001b[1;32m      8\u001b[0m         \u001b[0mconvert_units\u001b[0m\u001b[0;34m=\u001b[0m\u001b[0;32mTrue\u001b[0m\u001b[0;34m,\u001b[0m\u001b[0;34m\u001b[0m\u001b[0;34m\u001b[0m\u001b[0m\n",
      "\u001b[0;32m~/colabfit-tools/core/dataset.py\u001b[0m in \u001b[0;36mfrom_markdown\u001b[0;34m(cls, html_file_path, convert_units, verbose)\u001b[0m\n\u001b[1;32m    510\u001b[0m         \u001b[0mdataset\u001b[0m\u001b[0;34m.\u001b[0m\u001b[0mps_regexes\u001b[0m \u001b[0;34m=\u001b[0m \u001b[0mps_regexes\u001b[0m\u001b[0;34m\u001b[0m\u001b[0;34m\u001b[0m\u001b[0m\n\u001b[1;32m    511\u001b[0m \u001b[0;34m\u001b[0m\u001b[0m\n\u001b[0;32m--> 512\u001b[0;31m         \u001b[0mdataset\u001b[0m\u001b[0;34m.\u001b[0m\u001b[0mresync\u001b[0m\u001b[0;34m(\u001b[0m\u001b[0;34m)\u001b[0m\u001b[0;34m\u001b[0m\u001b[0;34m\u001b[0m\u001b[0m\n\u001b[0m\u001b[1;32m    513\u001b[0m \u001b[0;34m\u001b[0m\u001b[0m\n\u001b[1;32m    514\u001b[0m         \u001b[0;32mreturn\u001b[0m \u001b[0mdataset\u001b[0m\u001b[0;34m\u001b[0m\u001b[0;34m\u001b[0m\u001b[0m\n",
      "\u001b[0;32m~/colabfit-tools/core/dataset.py\u001b[0m in \u001b[0;36mresync\u001b[0;34m(self, verbose)\u001b[0m\n\u001b[1;32m    149\u001b[0m         \u001b[0mself\u001b[0m\u001b[0;34m.\u001b[0m\u001b[0mcheck_if_is_parent_dataset\u001b[0m\u001b[0;34m(\u001b[0m\u001b[0;34m)\u001b[0m\u001b[0;34m\u001b[0m\u001b[0;34m\u001b[0m\u001b[0m\n\u001b[1;32m    150\u001b[0m         \u001b[0mself\u001b[0m\u001b[0;34m.\u001b[0m\u001b[0mrefresh_config_labels\u001b[0m\u001b[0;34m(\u001b[0m\u001b[0mverbose\u001b[0m\u001b[0;34m)\u001b[0m\u001b[0;34m\u001b[0m\u001b[0;34m\u001b[0m\u001b[0m\n\u001b[0;32m--> 151\u001b[0;31m         \u001b[0mself\u001b[0m\u001b[0;34m.\u001b[0m\u001b[0mrefresh_config_sets\u001b[0m\u001b[0;34m(\u001b[0m\u001b[0mverbose\u001b[0m\u001b[0;34m)\u001b[0m\u001b[0;34m\u001b[0m\u001b[0;34m\u001b[0m\u001b[0m\n\u001b[0m\u001b[1;32m    152\u001b[0m         \u001b[0mself\u001b[0m\u001b[0;34m.\u001b[0m\u001b[0mrefresh_property_settings\u001b[0m\u001b[0;34m(\u001b[0m\u001b[0mverbose\u001b[0m\u001b[0;34m)\u001b[0m\u001b[0;34m\u001b[0m\u001b[0;34m\u001b[0m\u001b[0m\n\u001b[1;32m    153\u001b[0m         \u001b[0mself\u001b[0m\u001b[0;34m.\u001b[0m\u001b[0maggregate_metadata\u001b[0m\u001b[0;34m(\u001b[0m\u001b[0mverbose\u001b[0m\u001b[0;34m)\u001b[0m\u001b[0;34m\u001b[0m\u001b[0;34m\u001b[0m\u001b[0m\n",
      "\u001b[0;32m~/colabfit-tools/core/dataset.py\u001b[0m in \u001b[0;36mrefresh_config_sets\u001b[0;34m(self, verbose)\u001b[0m\n\u001b[1;32m    961\u001b[0m                         \u001b[0massigned_configurations\u001b[0m\u001b[0;34m.\u001b[0m\u001b[0mappend\u001b[0m\u001b[0;34m(\u001b[0m\u001b[0mai\u001b[0m\u001b[0;34m)\u001b[0m\u001b[0;34m\u001b[0m\u001b[0;34m\u001b[0m\u001b[0m\n\u001b[1;32m    962\u001b[0m \u001b[0;34m\u001b[0m\u001b[0m\n\u001b[0;32m--> 963\u001b[0;31m                 self.configuration_sets.append(ConfigurationSet(\n\u001b[0m\u001b[1;32m    964\u001b[0m                     \u001b[0mconfigurations\u001b[0m\u001b[0;34m=\u001b[0m\u001b[0mcs_configs\u001b[0m\u001b[0;34m,\u001b[0m\u001b[0;34m\u001b[0m\u001b[0;34m\u001b[0m\u001b[0m\n\u001b[1;32m    965\u001b[0m                     \u001b[0mdescription\u001b[0m\u001b[0;34m=\u001b[0m\u001b[0mcs_desc\u001b[0m\u001b[0;34m\u001b[0m\u001b[0;34m\u001b[0m\u001b[0m\n",
      "\u001b[0;32m~/colabfit-tools/core/configuration_sets.py\u001b[0m in \u001b[0;36m__init__\u001b[0;34m(self, configurations, description)\u001b[0m\n\u001b[1;32m     40\u001b[0m     \u001b[0;32mdef\u001b[0m \u001b[0m__init__\u001b[0m\u001b[0;34m(\u001b[0m\u001b[0mself\u001b[0m\u001b[0;34m,\u001b[0m \u001b[0mconfigurations\u001b[0m\u001b[0;34m,\u001b[0m \u001b[0mdescription\u001b[0m\u001b[0;34m)\u001b[0m\u001b[0;34m:\u001b[0m\u001b[0;34m\u001b[0m\u001b[0;34m\u001b[0m\u001b[0m\n\u001b[1;32m     41\u001b[0m         \u001b[0mself\u001b[0m\u001b[0;34m.\u001b[0m\u001b[0mdescription\u001b[0m    \u001b[0;34m=\u001b[0m \u001b[0mdescription\u001b[0m\u001b[0;34m\u001b[0m\u001b[0;34m\u001b[0m\u001b[0m\n\u001b[0;32m---> 42\u001b[0;31m         \u001b[0mself\u001b[0m\u001b[0;34m.\u001b[0m\u001b[0mconfigurations\u001b[0m \u001b[0;34m=\u001b[0m \u001b[0mconfigurations\u001b[0m\u001b[0;34m\u001b[0m\u001b[0;34m\u001b[0m\u001b[0m\n\u001b[0m\u001b[1;32m     43\u001b[0m \u001b[0;34m\u001b[0m\u001b[0m\n\u001b[1;32m     44\u001b[0m     \u001b[0;34m@\u001b[0m\u001b[0mproperty\u001b[0m\u001b[0;34m\u001b[0m\u001b[0;34m\u001b[0m\u001b[0m\n",
      "\u001b[0;32m~/colabfit-tools/core/configuration_sets.py\u001b[0m in \u001b[0;36mconfigurations\u001b[0;34m(self, configurations)\u001b[0m\n\u001b[1;32m     49\u001b[0m     \u001b[0;32mdef\u001b[0m \u001b[0mconfigurations\u001b[0m\u001b[0;34m(\u001b[0m\u001b[0mself\u001b[0m\u001b[0;34m,\u001b[0m \u001b[0mconfigurations\u001b[0m\u001b[0;34m)\u001b[0m\u001b[0;34m:\u001b[0m\u001b[0;34m\u001b[0m\u001b[0;34m\u001b[0m\u001b[0m\n\u001b[1;32m     50\u001b[0m         \u001b[0mself\u001b[0m\u001b[0;34m.\u001b[0m\u001b[0m_configurations\u001b[0m \u001b[0;34m=\u001b[0m \u001b[0mconfigurations\u001b[0m\u001b[0;34m\u001b[0m\u001b[0;34m\u001b[0m\u001b[0m\n\u001b[0;32m---> 51\u001b[0;31m         \u001b[0mself\u001b[0m\u001b[0;34m.\u001b[0m\u001b[0maggregate\u001b[0m\u001b[0;34m(\u001b[0m\u001b[0;34m)\u001b[0m\u001b[0;34m\u001b[0m\u001b[0;34m\u001b[0m\u001b[0m\n\u001b[0m\u001b[1;32m     52\u001b[0m \u001b[0;34m\u001b[0m\u001b[0m\n\u001b[1;32m     53\u001b[0m \u001b[0;34m\u001b[0m\u001b[0m\n",
      "\u001b[0;32m~/colabfit-tools/core/configuration_sets.py\u001b[0m in \u001b[0;36maggregate\u001b[0;34m(self)\u001b[0m\n\u001b[1;32m     85\u001b[0m \u001b[0;34m\u001b[0m\u001b[0m\n\u001b[1;32m     86\u001b[0m             \u001b[0;32mfor\u001b[0m \u001b[0me\u001b[0m \u001b[0;32min\u001b[0m \u001b[0mset\u001b[0m\u001b[0;34m(\u001b[0m\u001b[0mconf\u001b[0m\u001b[0;34m.\u001b[0m\u001b[0mget_chemical_symbols\u001b[0m\u001b[0;34m(\u001b[0m\u001b[0;34m)\u001b[0m\u001b[0;34m)\u001b[0m\u001b[0;34m:\u001b[0m\u001b[0;34m\u001b[0m\u001b[0;34m\u001b[0m\u001b[0m\n\u001b[0;32m---> 87\u001b[0;31m                 \u001b[0mer\u001b[0m \u001b[0;34m=\u001b[0m \u001b[0mconf\u001b[0m\u001b[0;34m.\u001b[0m\u001b[0mget_chemical_symbols\u001b[0m\u001b[0;34m(\u001b[0m\u001b[0;34m)\u001b[0m\u001b[0;34m.\u001b[0m\u001b[0mcount\u001b[0m\u001b[0;34m(\u001b[0m\u001b[0me\u001b[0m\u001b[0;34m)\u001b[0m\u001b[0;34m\u001b[0m\u001b[0;34m\u001b[0m\u001b[0m\n\u001b[0m\u001b[1;32m     88\u001b[0m                 \u001b[0melements_ratios\u001b[0m\u001b[0;34m[\u001b[0m\u001b[0mi\u001b[0m\u001b[0;34m,\u001b[0m \u001b[0mself\u001b[0m\u001b[0;34m.\u001b[0m\u001b[0melements\u001b[0m\u001b[0;34m.\u001b[0m\u001b[0mindex\u001b[0m\u001b[0;34m(\u001b[0m\u001b[0me\u001b[0m\u001b[0;34m)\u001b[0m\u001b[0;34m]\u001b[0m \u001b[0;34m=\u001b[0m \u001b[0mer\u001b[0m\u001b[0;34m\u001b[0m\u001b[0;34m\u001b[0m\u001b[0m\n\u001b[1;32m     89\u001b[0m \u001b[0;34m\u001b[0m\u001b[0m\n",
      "\u001b[0;32m~/.local/lib/python3.8/site-packages/ase/atoms.py\u001b[0m in \u001b[0;36mget_chemical_symbols\u001b[0;34m(self)\u001b[0m\n\u001b[1;32m    528\u001b[0m \u001b[0;34m\u001b[0m\u001b[0m\n\u001b[1;32m    529\u001b[0m         Equivalent to ``list(atoms.symbols)``.\"\"\"\n\u001b[0;32m--> 530\u001b[0;31m         \u001b[0;32mreturn\u001b[0m \u001b[0mlist\u001b[0m\u001b[0;34m(\u001b[0m\u001b[0mself\u001b[0m\u001b[0;34m.\u001b[0m\u001b[0msymbols\u001b[0m\u001b[0;34m)\u001b[0m\u001b[0;34m\u001b[0m\u001b[0;34m\u001b[0m\u001b[0m\n\u001b[0m\u001b[1;32m    531\u001b[0m \u001b[0;34m\u001b[0m\u001b[0m\n\u001b[1;32m    532\u001b[0m     \u001b[0;32mdef\u001b[0m \u001b[0mset_chemical_symbols\u001b[0m\u001b[0;34m(\u001b[0m\u001b[0mself\u001b[0m\u001b[0;34m,\u001b[0m \u001b[0msymbols\u001b[0m\u001b[0;34m)\u001b[0m\u001b[0;34m:\u001b[0m\u001b[0;34m\u001b[0m\u001b[0;34m\u001b[0m\u001b[0m\n",
      "\u001b[0;32m~/.local/lib/python3.8/site-packages/ase/symbols.py\u001b[0m in \u001b[0;36m__iter__\u001b[0;34m(self)\u001b[0m\n\u001b[1;32m     78\u001b[0m     \u001b[0;32mdef\u001b[0m \u001b[0m__iter__\u001b[0m\u001b[0;34m(\u001b[0m\u001b[0mself\u001b[0m\u001b[0;34m)\u001b[0m \u001b[0;34m->\u001b[0m \u001b[0mIterator\u001b[0m\u001b[0;34m[\u001b[0m\u001b[0mstr\u001b[0m\u001b[0;34m]\u001b[0m\u001b[0;34m:\u001b[0m\u001b[0;34m\u001b[0m\u001b[0;34m\u001b[0m\u001b[0m\n\u001b[1;32m     79\u001b[0m         \u001b[0;32mfor\u001b[0m \u001b[0mnum\u001b[0m \u001b[0;32min\u001b[0m \u001b[0mself\u001b[0m\u001b[0;34m.\u001b[0m\u001b[0mnumbers\u001b[0m\u001b[0;34m:\u001b[0m\u001b[0;34m\u001b[0m\u001b[0;34m\u001b[0m\u001b[0m\n\u001b[0;32m---> 80\u001b[0;31m             \u001b[0;32myield\u001b[0m \u001b[0mchemical_symbols\u001b[0m\u001b[0;34m[\u001b[0m\u001b[0mnum\u001b[0m\u001b[0;34m]\u001b[0m\u001b[0;34m\u001b[0m\u001b[0;34m\u001b[0m\u001b[0m\n\u001b[0m\u001b[1;32m     81\u001b[0m \u001b[0;34m\u001b[0m\u001b[0m\n\u001b[1;32m     82\u001b[0m     \u001b[0;32mdef\u001b[0m \u001b[0m__setitem__\u001b[0m\u001b[0;34m(\u001b[0m\u001b[0mself\u001b[0m\u001b[0;34m,\u001b[0m \u001b[0mkey\u001b[0m\u001b[0;34m,\u001b[0m \u001b[0mvalue\u001b[0m\u001b[0;34m)\u001b[0m \u001b[0;34m->\u001b[0m \u001b[0;32mNone\u001b[0m\u001b[0;34m:\u001b[0m\u001b[0;34m\u001b[0m\u001b[0;34m\u001b[0m\u001b[0m\n",
      "\u001b[0;31mKeyboardInterrupt\u001b[0m: "
     ]
    }
   ],
   "source": [
    "master = Dataset('master')\n",
    "\n",
    "for i, name in enumerate(names):\n",
    "    print('Attaching', name)\n",
    "\n",
    "    master.merge(Dataset.from_markdown(\n",
    "        f'/home/josh/colabfit/data/formatted/{name}/README.md',\n",
    "        convert_units=True,\n",
    "        verbose=True\n",
    "    ))"
   ]
  },
  {
   "cell_type": "code",
   "execution_count": null,
   "metadata": {},
   "outputs": [],
   "source": [
    "master.clean()"
   ]
  },
  {
   "cell_type": "code",
   "execution_count": null,
   "metadata": {},
   "outputs": [],
   "source": [
    "master.resync(verbose=True)"
   ]
  },
  {
   "cell_type": "code",
   "execution_count": null,
   "metadata": {},
   "outputs": [],
   "source": [
    "for c, cc in sorted(zip(master.co_labels, master.co_labels_counts), key=lambda x: x[1], reverse=True):\n",
    "    print(c, cc)"
   ]
  },
  {
   "cell_type": "code",
   "execution_count": null,
   "metadata": {},
   "outputs": [],
   "source": [
    "master.to_markdown(\n",
    "    '/home/josh/colabfit/data/formatted/master',\n",
    "    'README.md',\n",
    "    'master.extxyz',\n",
    "    'xyz',\n",
    "    '_name',\n",
    ")"
   ]
  },
  {
   "cell_type": "code",
   "execution_count": 3,
   "metadata": {},
   "outputs": [
    {
     "data": {
      "text/plain": [
       "4023"
      ]
     },
     "execution_count": 3,
     "metadata": {},
     "output_type": "execute_result"
    }
   ],
   "source": [
    "len(ds1.data)"
   ]
  },
  {
   "cell_type": "code",
   "execution_count": null,
   "metadata": {},
   "outputs": [],
   "source": []
  }
 ],
 "metadata": {
  "interpreter": {
   "hash": "31f2aee4e71d21fbe5cf8b01ff0e069b9275f58929596ceb00d14d90e3e16cd6"
  },
  "kernelspec": {
   "display_name": "Python 3 (ipykernel)",
   "language": "python",
   "name": "python3"
  },
  "language_info": {
   "codemirror_mode": {
    "name": "ipython",
    "version": 3
   },
   "file_extension": ".py",
   "mimetype": "text/x-python",
   "name": "python",
   "nbconvert_exporter": "python",
   "pygments_lexer": "ipython3",
   "version": "3.8.11"
  }
 },
 "nbformat": 4,
 "nbformat_minor": 2
}
